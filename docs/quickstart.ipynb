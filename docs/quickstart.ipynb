{
 "cells": [
  {
   "cell_type": "markdown",
   "id": "b90e936b724dae40",
   "metadata": {},
   "source": [
    "# TiDB Python SDK\n",
    "\n",
    "A powerful Python SDK for vector storage and retrieval operations with TiDB.\n",
    "\n",
    "- 🔄 Automatic embedding generation\n",
    "- 🔍 Vector similarity search\n",
    "- 🎯 Advanced filtering capabilities\n",
    "- 📦 Bulk operations support"
   ]
  },
  {
   "cell_type": "markdown",
   "id": "d774f9944686ca99",
   "metadata": {},
   "source": [
    "## Installation"
   ]
  },
  {
   "cell_type": "code",
   "execution_count": 19,
   "id": "ffcb4018b6271ee8",
   "metadata": {
    "ExecuteTime": {
     "end_time": "2025-04-02T08:47:27.264131Z",
     "start_time": "2025-04-02T08:47:26.780286Z"
    }
   },
   "outputs": [
    {
     "name": "stdout",
     "output_type": "stream",
     "text": [
      "Note: you may need to restart the kernel to use updated packages.\n"
     ]
    }
   ],
   "source": [
    "%pip install -q pytidb \"pytidb[models]\" pandas"
   ]
  },
  {
   "cell_type": "markdown",
   "id": "4236d29d1c721491",
   "metadata": {},
   "source": [
    "## Configuration\n",
    "\n",
    "- Go [tidbcloud.com](https://tidbcloud.com/) or using [tiup playground](https://docs.pingcap.com/tidb/stable/tiup-playground/) to create a free TiDB database cluster.\n",
    "  - After creating the cluster, you can find the connection information in the **Connect** tab of your cluster.\n",
    "  <img width=\"1512\" alt=\"Image\" src=\"https://github.com/user-attachments/assets/3f9064b7-2060-4d13-a1f3-8e5d1849819b\" />\n",
    "  - Then click \"Generate Password\" to create a password for your database. And save the connection information including: HOST, PORT, USERNAME, PASSWORD, DATABASE\n",
    "  <img width=\"1512\" alt=\"Image\" src=\"https://github.com/user-attachments/assets/8ecd29e5-21df-4dbd-815a-b6cc33f99a69\" />\n",
    "- Go [OpenAI platform](https://platform.openai.com/api-keys) to create your API key.\n",
    "- Go [jina.ai](https://jina.ai/reranker) to create your Jina API key (For reranker).\n",
    "\n",
    "Configuration can be provided through environment variables, or using `.env`:"
   ]
  },
  {
   "cell_type": "code",
   "execution_count": null,
   "id": "ff2912b32b018db8",
   "metadata": {
    "ExecuteTime": {
     "end_time": "2025-04-02T08:47:27.285818Z",
     "start_time": "2025-04-02T08:47:27.277903Z"
    }
   },
   "outputs": [],
   "source": [
    "%%bash\n",
    "\n",
    "# Check if the .env file is existing.\n",
    "if [ -f .env ]; then\n",
    "    exit 0\n",
    "fi\n",
    "\n",
    "# Create .env file with your configuration. replace the value with your saved key above.\n",
    "cat > .env <<EOF\n",
    "TIDB_HOST=localhost\n",
    "TIDB_PORT=4000\n",
    "TIDB_USERNAME=root\n",
    "TIDB_PASSWORD=\n",
    "TIDB_DATABASE=test\n",
    "OPENAI_API_KEY='your_openai_api_key'\n",
    "JINA_AI_API_KEY='your_jina_api_key'\n",
    "EOF"
   ]
  },
  {
   "cell_type": "code",
   "execution_count": 3,
   "id": "9c75d924557c8de7",
   "metadata": {
    "ExecuteTime": {
     "end_time": "2025-04-02T08:47:27.335160Z",
     "start_time": "2025-04-02T08:47:27.329663Z"
    }
   },
   "outputs": [
    {
     "data": {
      "text/plain": [
       "True"
      ]
     },
     "execution_count": 3,
     "metadata": {},
     "output_type": "execute_result"
    }
   ],
   "source": [
    "import dotenv\n",
    "\n",
    "dotenv.load_dotenv()"
   ]
  },
  {
   "cell_type": "markdown",
   "id": "22bfc51ebffcd51a",
   "metadata": {},
   "source": [
    "## Quickstart"
   ]
  },
  {
   "cell_type": "markdown",
   "id": "dc2df9bbafbf7080",
   "metadata": {},
   "source": [
    "### Connect to TiDB"
   ]
  },
  {
   "cell_type": "code",
   "execution_count": 4,
   "id": "4995a54f311c4b1c",
   "metadata": {
    "ExecuteTime": {
     "end_time": "2025-04-02T08:47:28.289475Z",
     "start_time": "2025-04-02T08:47:27.339360Z"
    }
   },
   "outputs": [],
   "source": [
    "import os\n",
    "from pytidb import TiDBClient\n",
    "\n",
    "db = TiDBClient.connect(\n",
    "    host=os.getenv(\"TIDB_HOST\"),\n",
    "    port=int(os.getenv(\"TIDB_PORT\")),\n",
    "    username=os.getenv(\"TIDB_USERNAME\"),\n",
    "    password=os.getenv(\"TIDB_PASSWORD\"),\n",
    "    database=os.getenv(\"TIDB_DATABASE\"),\n",
    ")\n",
    "\n",
    "# If you are using DATABASE_URL\n",
    "# db = TiDBClient.connect(database_url=os.getenv(\"DATABASE_URL\"))"
   ]
  },
  {
   "cell_type": "markdown",
   "id": "efe66290f9e9df4b",
   "metadata": {},
   "source": [
    "### Create table"
   ]
  },
  {
   "cell_type": "code",
   "execution_count": 5,
   "id": "9e3bec57603df4c5",
   "metadata": {
    "ExecuteTime": {
     "end_time": "2025-04-02T08:47:31.048703Z",
     "start_time": "2025-04-02T08:47:28.293897Z"
    }
   },
   "outputs": [],
   "source": [
    "from pytidb.schema import TableModel, Field\n",
    "from pytidb.embeddings import EmbeddingFunction\n",
    "\n",
    "# Define your embedding model.\n",
    "text_embed = EmbeddingFunction(\"openai/text-embedding-3-small\")\n",
    "\n",
    "\n",
    "class Chunk(TableModel, table=True):\n",
    "    __tablename__ = \"chunks\"\n",
    "    __table_args__ = {\"extend_existing\": True}\n",
    "\n",
    "    id: int = Field(primary_key=True)\n",
    "    text: str = Field()\n",
    "    text_vec: list[float] = text_embed.VectorField(\n",
    "        source_field=\"text\"\n",
    "    )  # 👈 Define the vector field.\n",
    "    user_id: int = Field()\n",
    "\n",
    "\n",
    "table = db.create_table(schema=Chunk)"
   ]
  },
  {
   "cell_type": "code",
   "execution_count": 8,
   "id": "d86d6f78",
   "metadata": {},
   "outputs": [],
   "source": [
    "if not table.has_fts_index(\"text\"):\n",
    "    table.create_fts_index(\"text\")"
   ]
  },
  {
   "cell_type": "markdown",
   "id": "3eab5d6eaaaaa868",
   "metadata": {},
   "source": [
    "### Insert Data\n",
    "\n",
    "🔢 Auto embedding: when you insert new data, the SDK automatically embeds the corpus for you."
   ]
  },
  {
   "cell_type": "code",
   "execution_count": 9,
   "id": "d9fcf8fc",
   "metadata": {},
   "outputs": [],
   "source": [
    "from asyncio import sleep\n",
    "\n",
    "table.truncate()\n",
    "await sleep(3)"
   ]
  },
  {
   "cell_type": "code",
   "execution_count": 10,
   "id": "fc742b2328df41f7",
   "metadata": {
    "ExecuteTime": {
     "end_time": "2025-04-02T08:47:32.543721Z",
     "start_time": "2025-04-02T08:47:31.053940Z"
    }
   },
   "outputs": [
    {
     "data": {
      "text/plain": [
       "4"
      ]
     },
     "execution_count": 10,
     "metadata": {},
     "output_type": "execute_result"
    }
   ],
   "source": [
    "table.insert(\n",
    "    Chunk(\n",
    "        text=\"TiDB is a distributed database that supports OLTP, OLAP, HTAP and AI workloads.\",\n",
    "        user_id=1,\n",
    "    ),\n",
    ")\n",
    "table.bulk_insert(\n",
    "    [\n",
    "        Chunk(\n",
    "            text=\"PyTiDB is a Python library for developers to connect to TiDB.\",\n",
    "            user_id=2,\n",
    "        ),\n",
    "        Chunk(\n",
    "            text=\"LlamaIndex is a framework for building AI applications.\", user_id=2\n",
    "        ),\n",
    "        Chunk(\n",
    "            text=\"OpenAI is a company and platform that provides AI models service and tools.\",\n",
    "            user_id=3,\n",
    "        ),\n",
    "    ]\n",
    ")\n",
    "table.rows()"
   ]
  },
  {
   "cell_type": "markdown",
   "id": "c985564294102cd3",
   "metadata": {},
   "source": [
    "### Search"
   ]
  },
  {
   "cell_type": "markdown",
   "id": "48f81f4e",
   "metadata": {},
   "source": [
    "#### Vector Search"
   ]
  },
  {
   "cell_type": "markdown",
   "id": "c4188fdb",
   "metadata": {},
   "source": [
    "You don't need to explicitly include all the keywords in your query — vector search uses **semantic similarity** to help you find the most relevant records."
   ]
  },
  {
   "cell_type": "code",
   "execution_count": 11,
   "id": "bb18652332f9338f",
   "metadata": {
    "ExecuteTime": {
     "end_time": "2025-04-02T08:47:34.335538Z",
     "start_time": "2025-04-02T08:47:32.549Z"
    }
   },
   "outputs": [
    {
     "data": {
      "text/html": [
       "<div>\n",
       "<style scoped>\n",
       "    .dataframe tbody tr th:only-of-type {\n",
       "        vertical-align: middle;\n",
       "    }\n",
       "\n",
       "    .dataframe tbody tr th {\n",
       "        vertical-align: top;\n",
       "    }\n",
       "\n",
       "    .dataframe thead th {\n",
       "        text-align: right;\n",
       "    }\n",
       "</style>\n",
       "<table border=\"1\" class=\"dataframe\">\n",
       "  <thead>\n",
       "    <tr style=\"text-align: right;\">\n",
       "      <th></th>\n",
       "      <th>id</th>\n",
       "      <th>text</th>\n",
       "      <th>text_vec</th>\n",
       "      <th>user_id</th>\n",
       "      <th>_distance</th>\n",
       "      <th>_score</th>\n",
       "    </tr>\n",
       "  </thead>\n",
       "  <tbody>\n",
       "    <tr>\n",
       "      <th>0</th>\n",
       "      <td>3</td>\n",
       "      <td>LlamaIndex is a framework for building AI appl...</td>\n",
       "      <td>[-0.008998445, -0.04153499, 0.03558421, -0.035...</td>\n",
       "      <td>2</td>\n",
       "      <td>0.572062</td>\n",
       "      <td>0.427938</td>\n",
       "    </tr>\n",
       "    <tr>\n",
       "      <th>1</th>\n",
       "      <td>4</td>\n",
       "      <td>OpenAI is a company and platform that provides...</td>\n",
       "      <td>[-0.02068534, -0.021361759, 0.024001976, -0.00...</td>\n",
       "      <td>3</td>\n",
       "      <td>0.603195</td>\n",
       "      <td>0.396805</td>\n",
       "    </tr>\n",
       "    <tr>\n",
       "      <th>2</th>\n",
       "      <td>2</td>\n",
       "      <td>PyTiDB is a Python library for developers to c...</td>\n",
       "      <td>[-0.055184152, -0.07363703, -0.0062109437, -0....</td>\n",
       "      <td>2</td>\n",
       "      <td>0.620284</td>\n",
       "      <td>0.379716</td>\n",
       "    </tr>\n",
       "  </tbody>\n",
       "</table>\n",
       "</div>"
      ],
      "text/plain": [
       "   id                                               text  \\\n",
       "0   3  LlamaIndex is a framework for building AI appl...   \n",
       "1   4  OpenAI is a company and platform that provides...   \n",
       "2   2  PyTiDB is a Python library for developers to c...   \n",
       "\n",
       "                                            text_vec  user_id  _distance  \\\n",
       "0  [-0.008998445, -0.04153499, 0.03558421, -0.035...        2   0.572062   \n",
       "1  [-0.02068534, -0.021361759, 0.024001976, -0.00...        3   0.603195   \n",
       "2  [-0.055184152, -0.07363703, -0.0062109437, -0....        2   0.620284   \n",
       "\n",
       "     _score  \n",
       "0  0.427938  \n",
       "1  0.396805  \n",
       "2  0.379716  "
      ]
     },
     "execution_count": 11,
     "metadata": {},
     "output_type": "execute_result"
    }
   ],
   "source": [
    "res = (\n",
    "    table.search(\n",
    "        \"A library for my artificial intelligence software\"\n",
    "    )  # 👈 The query will be embedding automatically.\n",
    "    .limit(3)\n",
    "    .to_pandas()\n",
    ")\n",
    "res"
   ]
  },
  {
   "cell_type": "markdown",
   "id": "bb8a96e7",
   "metadata": {},
   "source": [
    "#### Fulltext Search"
   ]
  },
  {
   "cell_type": "markdown",
   "id": "85424238",
   "metadata": {},
   "source": [
    "Full-text search tokenizes your query into terms and retrieves the records that mention the most keywords. For example, the query with keyword \"library\" will retrieve the records that mention the word \"library\"."
   ]
  },
  {
   "cell_type": "code",
   "execution_count": 12,
   "id": "8cb64706",
   "metadata": {},
   "outputs": [
    {
     "data": {
      "text/html": [
       "<div>\n",
       "<style scoped>\n",
       "    .dataframe tbody tr th:only-of-type {\n",
       "        vertical-align: middle;\n",
       "    }\n",
       "\n",
       "    .dataframe tbody tr th {\n",
       "        vertical-align: top;\n",
       "    }\n",
       "\n",
       "    .dataframe thead th {\n",
       "        text-align: right;\n",
       "    }\n",
       "</style>\n",
       "<table border=\"1\" class=\"dataframe\">\n",
       "  <thead>\n",
       "    <tr style=\"text-align: right;\">\n",
       "      <th></th>\n",
       "      <th>id</th>\n",
       "      <th>text</th>\n",
       "      <th>text_vec</th>\n",
       "      <th>user_id</th>\n",
       "      <th>_match_score</th>\n",
       "      <th>_score</th>\n",
       "    </tr>\n",
       "  </thead>\n",
       "  <tbody>\n",
       "    <tr>\n",
       "      <th>0</th>\n",
       "      <td>2</td>\n",
       "      <td>PyTiDB is a Python library for developers to c...</td>\n",
       "      <td>[-0.055184152, -0.07363703, -0.0062109437, -0....</td>\n",
       "      <td>2</td>\n",
       "      <td>None</td>\n",
       "      <td>None</td>\n",
       "    </tr>\n",
       "    <tr>\n",
       "      <th>1</th>\n",
       "      <td>3</td>\n",
       "      <td>LlamaIndex is a framework for building AI appl...</td>\n",
       "      <td>[-0.008998445, -0.04153499, 0.03558421, -0.035...</td>\n",
       "      <td>2</td>\n",
       "      <td>None</td>\n",
       "      <td>None</td>\n",
       "    </tr>\n",
       "    <tr>\n",
       "      <th>2</th>\n",
       "      <td>1</td>\n",
       "      <td>TiDB is a distributed database that supports O...</td>\n",
       "      <td>[-0.036524396, -0.026345069, 0.06068818, 0.004...</td>\n",
       "      <td>1</td>\n",
       "      <td>None</td>\n",
       "      <td>None</td>\n",
       "    </tr>\n",
       "  </tbody>\n",
       "</table>\n",
       "</div>"
      ],
      "text/plain": [
       "   id                                               text  \\\n",
       "0   2  PyTiDB is a Python library for developers to c...   \n",
       "1   3  LlamaIndex is a framework for building AI appl...   \n",
       "2   1  TiDB is a distributed database that supports O...   \n",
       "\n",
       "                                            text_vec  user_id _match_score  \\\n",
       "0  [-0.055184152, -0.07363703, -0.0062109437, -0....        2         None   \n",
       "1  [-0.008998445, -0.04153499, 0.03558421, -0.035...        2         None   \n",
       "2  [-0.036524396, -0.026345069, 0.06068818, 0.004...        1         None   \n",
       "\n",
       "  _score  \n",
       "0   None  \n",
       "1   None  \n",
       "2   None  "
      ]
     },
     "execution_count": 12,
     "metadata": {},
     "output_type": "execute_result"
    }
   ],
   "source": [
    "res = (\n",
    "    table.search(\n",
    "        \"A library for my artificial intelligence software\", search_type=\"fulltext\"\n",
    "    )\n",
    "    .limit(3)\n",
    "    .to_pandas()\n",
    ")\n",
    "res"
   ]
  },
  {
   "cell_type": "markdown",
   "id": "7b502e48",
   "metadata": {},
   "source": [
    "#### Hybrid Search"
   ]
  },
  {
   "cell_type": "code",
   "execution_count": 13,
   "id": "2149820e",
   "metadata": {},
   "outputs": [
    {
     "data": {
      "text/html": [
       "<div>\n",
       "<style scoped>\n",
       "    .dataframe tbody tr th:only-of-type {\n",
       "        vertical-align: middle;\n",
       "    }\n",
       "\n",
       "    .dataframe tbody tr th {\n",
       "        vertical-align: top;\n",
       "    }\n",
       "\n",
       "    .dataframe thead th {\n",
       "        text-align: right;\n",
       "    }\n",
       "</style>\n",
       "<table border=\"1\" class=\"dataframe\">\n",
       "  <thead>\n",
       "    <tr style=\"text-align: right;\">\n",
       "      <th></th>\n",
       "      <th>id</th>\n",
       "      <th>text</th>\n",
       "      <th>text_vec</th>\n",
       "      <th>user_id</th>\n",
       "      <th>_distance</th>\n",
       "      <th>_score</th>\n",
       "      <th>_match_score</th>\n",
       "    </tr>\n",
       "  </thead>\n",
       "  <tbody>\n",
       "    <tr>\n",
       "      <th>0</th>\n",
       "      <td>3</td>\n",
       "      <td>LlamaIndex is a framework for building AI appl...</td>\n",
       "      <td>[-0.008998445, -0.04153499, 0.03558421, -0.035...</td>\n",
       "      <td>2</td>\n",
       "      <td>0.572062</td>\n",
       "      <td>0.860416</td>\n",
       "      <td>None</td>\n",
       "    </tr>\n",
       "    <tr>\n",
       "      <th>1</th>\n",
       "      <td>4</td>\n",
       "      <td>OpenAI is a company and platform that provides...</td>\n",
       "      <td>[-0.02068534, -0.021361759, 0.024001976, -0.00...</td>\n",
       "      <td>3</td>\n",
       "      <td>0.603195</td>\n",
       "      <td>0.770188</td>\n",
       "      <td>None</td>\n",
       "    </tr>\n",
       "    <tr>\n",
       "      <th>2</th>\n",
       "      <td>1</td>\n",
       "      <td>TiDB is a distributed database that supports O...</td>\n",
       "      <td>[-0.036524396, -0.026345069, 0.06068818, 0.004...</td>\n",
       "      <td>1</td>\n",
       "      <td>NaN</td>\n",
       "      <td>0.590401</td>\n",
       "      <td>None</td>\n",
       "    </tr>\n",
       "  </tbody>\n",
       "</table>\n",
       "</div>"
      ],
      "text/plain": [
       "   id                                               text  \\\n",
       "0   3  LlamaIndex is a framework for building AI appl...   \n",
       "1   4  OpenAI is a company and platform that provides...   \n",
       "2   1  TiDB is a distributed database that supports O...   \n",
       "\n",
       "                                            text_vec  user_id  _distance  \\\n",
       "0  [-0.008998445, -0.04153499, 0.03558421, -0.035...        2   0.572062   \n",
       "1  [-0.02068534, -0.021361759, 0.024001976, -0.00...        3   0.603195   \n",
       "2  [-0.036524396, -0.026345069, 0.06068818, 0.004...        1        NaN   \n",
       "\n",
       "     _score _match_score  \n",
       "0  0.860416         None  \n",
       "1  0.770188         None  \n",
       "2  0.590401         None  "
      ]
     },
     "execution_count": 13,
     "metadata": {},
     "output_type": "execute_result"
    }
   ],
   "source": [
    "from pytidb.rerankers import Reranker\n",
    "\n",
    "jinaai = Reranker(model_name=\"jina_ai/jina-reranker-m0\")\n",
    "\n",
    "res = (\n",
    "    table.search(\n",
    "        \"A library for my artificial intelligence software\", search_type=\"hybrid\"\n",
    "    )\n",
    "    .rerank(jinaai, \"text\")  # 👈 Rerank the result set with Jina AI reranker.\n",
    "    .limit(3)\n",
    "    .to_pandas()\n",
    ")\n",
    "res"
   ]
  },
  {
   "cell_type": "markdown",
   "id": "9885104818a2d30b",
   "metadata": {},
   "source": [
    "### Advanced Filtering"
   ]
  },
  {
   "cell_type": "markdown",
   "id": "39d9b117",
   "metadata": {},
   "source": [
    "TiDB Client supports various filter operators for flexible querying:\n",
    "\n",
    "| Operator | Description | Example |\n",
    "|----------|-------------|---------|\n",
    "| `$eq` | Equal to | `{\"field\": {\"$eq\": \"hello\"}}` |\n",
    "| `$gt` | Greater than | `{\"field\": {\"$gt\": 1}}` |\n",
    "| `$gte` | Greater than or equal | `{\"field\": {\"$gte\": 1}}` |\n",
    "| `$lt` | Less than | `{\"field\": {\"$lt\": 1}}` |\n",
    "| `$lte` | Less than or equal | `{\"field\": {\"$lte\": 1}}` |\n",
    "| `$in` | In array | `{\"field\": {\"$in\": [1, 2, 3]}}` |\n",
    "| `$nin` | Not in array | `{\"field\": {\"$nin\": [1, 2, 3]}}` |\n",
    "| `$and` | Logical AND | `{\"$and\": [{\"field1\": 1}, {\"field2\": 2}]}` |\n",
    "| `$or` | Logical OR | `{\"$or\": [{\"field1\": 1}, {\"field2\": 2}]}` |\n"
   ]
  },
  {
   "cell_type": "code",
   "execution_count": 14,
   "id": "5b9277c611a0c7f4",
   "metadata": {
    "ExecuteTime": {
     "end_time": "2025-04-02T08:47:34.352422Z",
     "start_time": "2025-04-02T08:47:34.342392Z"
    }
   },
   "outputs": [
    {
     "data": {
      "text/plain": [
       "[(1,\n",
       "  'TiDB is a distributed database that supports OLTP, OLAP, HTAP and AI workloads.',\n",
       "  1)]"
      ]
     },
     "execution_count": 14,
     "metadata": {},
     "output_type": "execute_result"
    }
   ],
   "source": [
    "chunks = table.query({\"user_id\": 1})\n",
    "[(c.id, c.text, c.user_id) for c in chunks]"
   ]
  },
  {
   "cell_type": "markdown",
   "id": "824bdb8530bf9f23",
   "metadata": {},
   "source": [
    "### Multiple Tables Join"
   ]
  },
  {
   "cell_type": "code",
   "execution_count": 16,
   "id": "2125f53dd5ec80c9",
   "metadata": {
    "ExecuteTime": {
     "end_time": "2025-04-02T08:47:34.370748Z",
     "start_time": "2025-04-02T08:47:34.366230Z"
    }
   },
   "outputs": [
    {
     "name": "stderr",
     "output_type": "stream",
     "text": [
      "/Users/liangzhiyuan/Projects/pytidb/.venv/lib/python3.12/site-packages/sqlmodel/main.py:641: SAWarning: This declarative base already contains a class with the same class name and module name as __main__.User, and will be replaced in the string-lookup table.\n",
      "  DeclarativeMeta.__init__(cls, classname, bases, dict_, **kw)\n"
     ]
    }
   ],
   "source": [
    "# Create a table to store user data:\n",
    "class User(TableModel, table=True):\n",
    "    __tablename__ = \"users\"\n",
    "    __table_args__ = {\"extend_existing\": True}\n",
    "\n",
    "    id: int = Field(primary_key=True)\n",
    "    name: str = Field(max_length=20)\n",
    "\n",
    "\n",
    "user_table = db.create_table(schema=User)"
   ]
  },
  {
   "cell_type": "code",
   "execution_count": 17,
   "id": "54332bb413b12141",
   "metadata": {
    "ExecuteTime": {
     "end_time": "2025-04-02T08:47:34.449662Z",
     "start_time": "2025-04-02T08:47:34.392482Z"
    }
   },
   "outputs": [
    {
     "data": {
      "text/plain": [
       "User(name='Alice', id=1)"
      ]
     },
     "execution_count": 17,
     "metadata": {},
     "output_type": "execute_result"
    }
   ],
   "source": [
    "user_table.truncate()\n",
    "user_table.insert(User(id=1, name=\"Alice\"))"
   ]
  },
  {
   "cell_type": "code",
   "execution_count": 18,
   "id": "b2ec4ea1bd64108c",
   "metadata": {
    "ExecuteTime": {
     "end_time": "2025-04-02T08:47:34.464285Z",
     "start_time": "2025-04-02T08:47:34.454531Z"
    }
   },
   "outputs": [
    {
     "data": {
      "text/plain": [
       "[(1,\n",
       "  'TiDB is a distributed database that supports OLTP, OLAP, HTAP and AI workloads.',\n",
       "  1)]"
      ]
     },
     "execution_count": 18,
     "metadata": {},
     "output_type": "execute_result"
    }
   ],
   "source": [
    "from pytidb import Session\n",
    "from pytidb.sql import select\n",
    "\n",
    "db_engine = db.db_engine\n",
    "with Session(db_engine) as db_session:\n",
    "    query = (\n",
    "        select(Chunk).join(User, Chunk.user_id == User.id).where(User.name == \"Alice\")\n",
    "    )\n",
    "    chunks = db_session.exec(query).all()\n",
    "\n",
    "[(c.id, c.text, c.user_id) for c in chunks]"
   ]
  },
  {
   "cell_type": "markdown",
   "id": "8588f41c966af685",
   "metadata": {},
   "source": [
    "### Update Data"
   ]
  },
  {
   "cell_type": "code",
   "execution_count": 21,
   "id": "9709eaa17f375cc4",
   "metadata": {
    "ExecuteTime": {
     "end_time": "2025-04-02T08:47:34.490729Z",
     "start_time": "2025-04-02T08:47:34.482533Z"
    }
   },
   "outputs": [
    {
     "data": {
      "text/plain": [
       "('PyTiDB is a Python library for developers to connect to TiDB.',\n",
       " array([-0.05514111, -0.07355057, -0.00622192, ...,  0.0079887 ,\n",
       "         0.01695894,  0.02309906], dtype=float32))"
      ]
     },
     "execution_count": 21,
     "metadata": {},
     "output_type": "execute_result"
    }
   ],
   "source": [
    "old_chunk = table.query(\n",
    "    {\"text\": \"PyTiDB is a Python library for developers to connect to TiDB.\"}\n",
    ")[0]\n",
    "chunk_id = old_chunk.id\n",
    "(old_chunk.text, old_chunk.text_vec)"
   ]
  },
  {
   "cell_type": "code",
   "execution_count": 22,
   "id": "2f60ed130e223985",
   "metadata": {
    "ExecuteTime": {
     "end_time": "2025-04-02T08:47:35.573256Z",
     "start_time": "2025-04-02T08:47:34.513415Z"
    }
   },
   "outputs": [],
   "source": [
    "table.update(\n",
    "    values={\n",
    "        \"text\": \"foo\"  # 👈 Only provide the fields you want to update.\n",
    "    },\n",
    "    filters={\"id\": chunk_id},\n",
    ")"
   ]
  },
  {
   "cell_type": "code",
   "execution_count": 23,
   "id": "99208275",
   "metadata": {
    "ExecuteTime": {
     "end_time": "2025-04-02T08:47:35.584098Z",
     "start_time": "2025-04-02T08:47:35.579135Z"
    }
   },
   "outputs": [
    {
     "data": {
      "text/plain": [
       "('foo',\n",
       " array([-0.00582053, -0.01312881, -0.0145813 , ..., -0.00910273,\n",
       "        -0.00738936, -0.01879774], dtype=float32))"
      ]
     },
     "execution_count": 23,
     "metadata": {},
     "output_type": "execute_result"
    }
   ],
   "source": [
    "new_chunk = table.get(chunk_id)\n",
    "(new_chunk.text, new_chunk.text_vec)  # 👈 The vector field is updated automatically."
   ]
  },
  {
   "cell_type": "markdown",
   "id": "414e362b",
   "metadata": {},
   "source": [
    "### Delete Data"
   ]
  },
  {
   "cell_type": "code",
   "execution_count": 24,
   "id": "d1c01776adcf166b",
   "metadata": {
    "ExecuteTime": {
     "end_time": "2025-04-02T08:47:35.598004Z",
     "start_time": "2025-04-02T08:47:35.591185Z"
    }
   },
   "outputs": [
    {
     "data": {
      "text/plain": [
       "4"
      ]
     },
     "execution_count": 24,
     "metadata": {},
     "output_type": "execute_result"
    }
   ],
   "source": [
    "table.rows()"
   ]
  },
  {
   "cell_type": "code",
   "execution_count": 25,
   "id": "ebc3854b4428bda6",
   "metadata": {
    "ExecuteTime": {
     "end_time": "2025-04-02T08:47:35.622223Z",
     "start_time": "2025-04-02T08:47:35.610659Z"
    }
   },
   "outputs": [],
   "source": [
    "table.delete(filters={\"user_id\": 2})"
   ]
  },
  {
   "cell_type": "code",
   "execution_count": 26,
   "id": "27c539b8f693991",
   "metadata": {
    "ExecuteTime": {
     "end_time": "2025-04-02T08:47:35.635872Z",
     "start_time": "2025-04-02T08:47:35.628967Z"
    }
   },
   "outputs": [
    {
     "data": {
      "text/plain": [
       "2"
      ]
     },
     "execution_count": 26,
     "metadata": {},
     "output_type": "execute_result"
    }
   ],
   "source": [
    "table.rows()"
   ]
  },
  {
   "cell_type": "markdown",
   "id": "e31dadb5fc1ce970",
   "metadata": {},
   "source": [
    "### Execute raw SQL\n",
    "\n",
    "- Using `execute()` to execute INSERT / UPDATE / DELETE statement.\n",
    "- Using `query()` to execute SELECT / SHOW statement."
   ]
  },
  {
   "cell_type": "markdown",
   "id": "af4e09aba41bf12b",
   "metadata": {},
   "source": [
    "#### Execute SQL"
   ]
  },
  {
   "cell_type": "markdown",
   "id": "c0be2cb573fa5ce7",
   "metadata": {},
   "source": [
    "The `execute()` method will return a `SQLExecuteResult` instance."
   ]
  },
  {
   "cell_type": "code",
   "execution_count": 27,
   "id": "f4816866cdbbbcfa",
   "metadata": {
    "ExecuteTime": {
     "end_time": "2025-04-02T08:47:35.650658Z",
     "start_time": "2025-04-02T08:47:35.644821Z"
    }
   },
   "outputs": [
    {
     "data": {
      "text/plain": [
       "SQLExecuteResult(rowcount=1, success=True, message=None)"
      ]
     },
     "execution_count": 27,
     "metadata": {},
     "output_type": "execute_result"
    }
   ],
   "source": [
    "db.execute(\"INSERT INTO chunks(text, user_id) VALUES ('inserted from raw sql', 5)\")"
   ]
  },
  {
   "cell_type": "markdown",
   "id": "9ce8553c7bcb2dbe",
   "metadata": {},
   "source": [
    "Both of the `execute` and `query` methods are support the **Parameterized SQL** feature, which help you avoid [SQL injection](https://en.wikipedia.org/wiki/SQL_injection) while using the dynamic SQL feature."
   ]
  },
  {
   "cell_type": "code",
   "execution_count": 28,
   "id": "eae7fedce0fc6ffc",
   "metadata": {
    "ExecuteTime": {
     "end_time": "2025-04-02T08:47:35.671570Z",
     "start_time": "2025-04-02T08:47:35.665808Z"
    }
   },
   "outputs": [
    {
     "data": {
      "text/plain": [
       "SQLExecuteResult(rowcount=1, success=True, message=None)"
      ]
     },
     "execution_count": 28,
     "metadata": {},
     "output_type": "execute_result"
    }
   ],
   "source": [
    "db.execute(\n",
    "    \"INSERT INTO chunks(text, user_id) VALUES (:text, :user_id)\",\n",
    "    {\"text\": \"inserted from dynamic sql\", \"user_id\": 6},\n",
    ")"
   ]
  },
  {
   "cell_type": "markdown",
   "id": "30d59b176cd97a70",
   "metadata": {},
   "source": [
    "#### Query SQL"
   ]
  },
  {
   "cell_type": "markdown",
   "id": "31113270bb30267e",
   "metadata": {},
   "source": [
    "The `query()` method will return a `SQLQueryResult` instance with some helper methods:\n",
    "\n",
    "- `to_pandas()`\n",
    "- `to_list()`\n",
    "- `to_rows()`\n",
    "- `scalar()`\n",
    "\n",
    "The `to_pandas()` method to convert the query result to a `pandas.DataFrame`, which is displayed as human-friendly style on the notebook:"
   ]
  },
  {
   "cell_type": "code",
   "execution_count": 29,
   "id": "564ebe8e3b8fbee",
   "metadata": {
    "ExecuteTime": {
     "end_time": "2025-04-02T08:47:35.698499Z",
     "start_time": "2025-04-02T08:47:35.688010Z"
    }
   },
   "outputs": [
    {
     "data": {
      "text/html": [
       "<div>\n",
       "<style scoped>\n",
       "    .dataframe tbody tr th:only-of-type {\n",
       "        vertical-align: middle;\n",
       "    }\n",
       "\n",
       "    .dataframe tbody tr th {\n",
       "        vertical-align: top;\n",
       "    }\n",
       "\n",
       "    .dataframe thead th {\n",
       "        text-align: right;\n",
       "    }\n",
       "</style>\n",
       "<table border=\"1\" class=\"dataframe\">\n",
       "  <thead>\n",
       "    <tr style=\"text-align: right;\">\n",
       "      <th></th>\n",
       "      <th>id</th>\n",
       "      <th>text</th>\n",
       "      <th>user_id</th>\n",
       "    </tr>\n",
       "  </thead>\n",
       "  <tbody>\n",
       "    <tr>\n",
       "      <th>0</th>\n",
       "      <td>1</td>\n",
       "      <td>TiDB is a distributed database that supports O...</td>\n",
       "      <td>1</td>\n",
       "    </tr>\n",
       "    <tr>\n",
       "      <th>1</th>\n",
       "      <td>4</td>\n",
       "      <td>OpenAI is a company and platform that provides...</td>\n",
       "      <td>3</td>\n",
       "    </tr>\n",
       "    <tr>\n",
       "      <th>2</th>\n",
       "      <td>30001</td>\n",
       "      <td>inserted from raw sql</td>\n",
       "      <td>5</td>\n",
       "    </tr>\n",
       "    <tr>\n",
       "      <th>3</th>\n",
       "      <td>30002</td>\n",
       "      <td>inserted from dynamic sql</td>\n",
       "      <td>6</td>\n",
       "    </tr>\n",
       "  </tbody>\n",
       "</table>\n",
       "</div>"
      ],
      "text/plain": [
       "      id                                               text  user_id\n",
       "0      1  TiDB is a distributed database that supports O...        1\n",
       "1      4  OpenAI is a company and platform that provides...        3\n",
       "2  30001                              inserted from raw sql        5\n",
       "3  30002                          inserted from dynamic sql        6"
      ]
     },
     "execution_count": 29,
     "metadata": {},
     "output_type": "execute_result"
    }
   ],
   "source": [
    "db.query(\"SELECT id, text, user_id FROM chunks\").to_pandas()"
   ]
  },
  {
   "cell_type": "markdown",
   "id": "d2abab55038d069b",
   "metadata": {},
   "source": [
    "The `to_list()` method will convert the query result into a list of dict."
   ]
  },
  {
   "cell_type": "code",
   "execution_count": 30,
   "id": "97991aed7bd13987",
   "metadata": {
    "ExecuteTime": {
     "end_time": "2025-04-02T08:47:35.727069Z",
     "start_time": "2025-04-02T08:47:35.720316Z"
    }
   },
   "outputs": [
    {
     "data": {
      "text/plain": [
       "[{'id': 4,\n",
       "  'text': 'OpenAI is a company and platform that provides AI models service and tools.',\n",
       "  'user_id': 3}]"
      ]
     },
     "execution_count": 30,
     "metadata": {},
     "output_type": "execute_result"
    }
   ],
   "source": [
    "db.query(\n",
    "    \"SELECT id, text, user_id FROM chunks WHERE user_id = :user_id\", {\"user_id\": 3}\n",
    ").to_list()"
   ]
  },
  {
   "cell_type": "markdown",
   "id": "7238c2a0fca418bb",
   "metadata": {},
   "source": [
    "The `to_rows` method will return a list of tuple, every tuple represent of one row of data."
   ]
  },
  {
   "cell_type": "code",
   "execution_count": 31,
   "id": "54514f65c6f769e1",
   "metadata": {
    "ExecuteTime": {
     "end_time": "2025-04-02T08:47:35.762138Z",
     "start_time": "2025-04-02T08:47:35.758695Z"
    }
   },
   "outputs": [
    {
     "data": {
      "text/plain": [
       "[('chunks',), ('users',)]"
      ]
     },
     "execution_count": 31,
     "metadata": {},
     "output_type": "execute_result"
    }
   ],
   "source": [
    "db.query(\"SHOW TABLES;\").to_rows()"
   ]
  },
  {
   "cell_type": "code",
   "execution_count": 32,
   "id": "b2f3113a0ea9bb1b",
   "metadata": {
    "ExecuteTime": {
     "end_time": "2025-04-02T08:47:35.797200Z",
     "start_time": "2025-04-02T08:47:35.790402Z"
    }
   },
   "outputs": [
    {
     "data": {
      "text/plain": [
       "4"
      ]
     },
     "execution_count": 32,
     "metadata": {},
     "output_type": "execute_result"
    }
   ],
   "source": [
    "db.query(\"SELECT COUNT(*) FROM chunks;\").scalar()"
   ]
  },
  {
   "cell_type": "markdown",
   "id": "882d642830bd0f11",
   "metadata": {},
   "source": [
    "### Table Management"
   ]
  },
  {
   "cell_type": "markdown",
   "id": "7453dac3a51e0481",
   "metadata": {},
   "source": [
    "#### List tables"
   ]
  },
  {
   "cell_type": "code",
   "execution_count": 33,
   "id": "8523e1eb22bee8db",
   "metadata": {
    "ExecuteTime": {
     "end_time": "2025-04-02T08:47:35.821143Z",
     "start_time": "2025-04-02T08:47:35.817185Z"
    }
   },
   "outputs": [
    {
     "data": {
      "text/plain": [
       "['chunks', 'users']"
      ]
     },
     "execution_count": 33,
     "metadata": {},
     "output_type": "execute_result"
    }
   ],
   "source": [
    "db.table_names()"
   ]
  },
  {
   "cell_type": "markdown",
   "id": "1bb3f62740e78595",
   "metadata": {},
   "source": [
    "#### Truncate table\n",
    "\n",
    "Clear all data in the table:"
   ]
  },
  {
   "cell_type": "code",
   "execution_count": 34,
   "id": "c33600be01633b4e",
   "metadata": {
    "ExecuteTime": {
     "end_time": "2025-04-02T08:47:35.894430Z",
     "start_time": "2025-04-02T08:47:35.832515Z"
    }
   },
   "outputs": [
    {
     "data": {
      "text/plain": [
       "0"
      ]
     },
     "execution_count": 34,
     "metadata": {},
     "output_type": "execute_result"
    }
   ],
   "source": [
    "table.truncate()\n",
    "table.rows()"
   ]
  },
  {
   "cell_type": "markdown",
   "id": "761680f7ea056b10",
   "metadata": {},
   "source": [
    "#### Drop table\n"
   ]
  },
  {
   "cell_type": "code",
   "execution_count": 35,
   "id": "56317418ca9cbbe4",
   "metadata": {
    "ExecuteTime": {
     "end_time": "2025-04-02T08:47:36.003932Z",
     "start_time": "2025-04-02T08:47:35.900043Z"
    }
   },
   "outputs": [
    {
     "data": {
      "text/plain": [
       "SQLExecuteResult(rowcount=0, success=True, message=None)"
      ]
     },
     "execution_count": 35,
     "metadata": {},
     "output_type": "execute_result"
    }
   ],
   "source": [
    "db.drop_table(\"chunks\")"
   ]
  }
 ],
 "metadata": {
  "kernelspec": {
   "display_name": ".venv",
   "language": "python",
   "name": "python3"
  },
  "language_info": {
   "codemirror_mode": {
    "name": "ipython",
    "version": 3
   },
   "file_extension": ".py",
   "mimetype": "text/x-python",
   "name": "python",
   "nbconvert_exporter": "python",
   "pygments_lexer": "ipython3",
   "version": "3.12.4"
  }
 },
 "nbformat": 4,
 "nbformat_minor": 5
}
